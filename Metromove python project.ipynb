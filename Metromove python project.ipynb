{
 "cells": [
  {
   "cell_type": "code",
   "execution_count": null,
   "id": "01e4a811",
   "metadata": {},
   "outputs": [],
   "source": [
    "# Project Title: Optimizing Public Transit Operations \n",
    "# Objective: Perform EDA on MetroMove's public transport dataset\n",
    "\n",
    "# Import libraries \n",
    "import pandas as pd\n",
    "import numpy as np\n",
    "import matplotlib.pyplot as plt\n",
    "import seaborn as sns"
   ]
  },
  {
   "cell_type": "code",
   "execution_count": null,
   "id": "9d324bec",
   "metadata": {},
   "outputs": [],
   "source": [
    "# Load the dataset\n",
    "df = pd.read_excel(r\"C:\\Users\\HP\\Downloads\\public transport trips_EDA.xlsx\")"
   ]
  },
  {
   "cell_type": "code",
   "execution_count": null,
   "id": "d20efa7c",
   "metadata": {},
   "outputs": [],
   "source": [
    "# Preview the data \n",
    "df.head()"
   ]
  },
  {
   "cell_type": "code",
   "execution_count": null,
   "id": "c2157e1a",
   "metadata": {},
   "outputs": [],
   "source": [
    "# Check the data\n",
    "df.info()\n"
   ]
  },
  {
   "cell_type": "code",
   "execution_count": null,
   "id": "20050856",
   "metadata": {},
   "outputs": [],
   "source": [
    "# Clean text formating (remove extra spaces)\n",
    "df['Mode_of_Transport'] = df['Mode_of_Transport'].str.strip().str.title()"
   ]
  },
  {
   "cell_type": "code",
   "execution_count": null,
   "id": "425ddca8",
   "metadata": {},
   "outputs": [],
   "source": [
    "df['Departure_Station'] = df['Departure_Station'].str.strip().str.title()"
   ]
  },
  {
   "cell_type": "code",
   "execution_count": null,
   "id": "5b4a2400",
   "metadata": {},
   "outputs": [],
   "source": [
    "df['Arrival_Station'] = df['Arrival_Station'].str.strip().str.title()"
   ]
  },
  {
   "cell_type": "code",
   "execution_count": null,
   "id": "3c4c7761",
   "metadata": {},
   "outputs": [],
   "source": [
    "# Check for missing values\n",
    "df.isnull().sum()"
   ]
  },
  {
   "cell_type": "code",
   "execution_count": null,
   "id": "43bf39d9",
   "metadata": {},
   "outputs": [],
   "source": [
    "# Fill missing numeric values using the median\n",
    "df['Passenger_Count'].fillna(df['Passenger_Count'].median(), inplace=True)"
   ]
  },
  {
   "cell_type": "code",
   "execution_count": null,
   "id": "2b5280b5",
   "metadata": {},
   "outputs": [],
   "source": [
    "df['Fare_Amount'].fillna(df['Fare_Amount'].median(), inplace=True)"
   ]
  },
  {
   "cell_type": "code",
   "execution_count": null,
   "id": "2705a337",
   "metadata": {},
   "outputs": [],
   "source": [
    "df['Trip_Duration_Minutes'].fillna(df['Trip_Duration_Minutes'].median(), inplace=True)"
   ]
  },
  {
   "cell_type": "code",
   "execution_count": null,
   "id": "8099f2d1",
   "metadata": {},
   "outputs": [],
   "source": [
    "df = df.drop(columns=['Unnamed: 10', 'Unnamed: 11'])"
   ]
  },
  {
   "cell_type": "code",
   "execution_count": null,
   "id": "8cee3d05",
   "metadata": {},
   "outputs": [],
   "source": [
    "df.isnull().sum()"
   ]
  },
  {
   "cell_type": "code",
   "execution_count": null,
   "id": "f127a06a",
   "metadata": {},
   "outputs": [],
   "source": [
    "print(df['Mode_of_Transport'].unique())"
   ]
  },
  {
   "cell_type": "code",
   "execution_count": null,
   "id": "d85eed38",
   "metadata": {},
   "outputs": [],
   "source": [
    "#Replace inconsistent mode names \n",
    "df['Mode_of_Transport'].replace({\n",
    "    'bus': 'Bus',\n",
    "    'train': 'Train',\n",
    "    'tram': 'Train',\n",
    "    'FERRY': 'Ferry',\n",
    "    'fErry': 'Ferry',\n",
    "}, inplace=True)"
   ]
  },
  {
   "cell_type": "code",
   "execution_count": null,
   "id": "898af1ef",
   "metadata": {},
   "outputs": [],
   "source": [
    "df['Mode_of_Transport'].unique()"
   ]
  },
  {
   "cell_type": "code",
   "execution_count": null,
   "id": "4f15000f",
   "metadata": {},
   "outputs": [],
   "source": [
    "# Convert to proper datetime format\n",
    "df['Departure_Time'] = pd.to_datetime(df['Departure_Time'])"
   ]
  },
  {
   "cell_type": "code",
   "execution_count": null,
   "id": "5e23620f",
   "metadata": {},
   "outputs": [],
   "source": [
    "df['Trip_Date'] = pd.to_datetime(df['Trip_Date'])"
   ]
  },
  {
   "cell_type": "code",
   "execution_count": null,
   "id": "5f7f1a67",
   "metadata": {},
   "outputs": [],
   "source": [
    "df.dtypes"
   ]
  },
  {
   "cell_type": "code",
   "execution_count": null,
   "id": "5e3d7cf1",
   "metadata": {},
   "outputs": [],
   "source": [
    "print(df.info())"
   ]
  },
  {
   "cell_type": "code",
   "execution_count": null,
   "id": "761680fa",
   "metadata": {},
   "outputs": [],
   "source": [
    "print(df.head())"
   ]
  },
  {
   "cell_type": "code",
   "execution_count": null,
   "id": "d74f0c7c",
   "metadata": {},
   "outputs": [],
   "source": [
    "# Count of transport modes\n",
    "df['Mode_of_Transport'].value_counts()"
   ]
  },
  {
   "cell_type": "code",
   "execution_count": null,
   "id": "cc38ff2b",
   "metadata": {
    "scrolled": true
   },
   "outputs": [],
   "source": [
    "# Summary of numeric columns\n",
    "df.describe()"
   ]
  },
  {
   "cell_type": "code",
   "execution_count": null,
   "id": "4ef752e7",
   "metadata": {},
   "outputs": [],
   "source": [
    "import seaborn as sns\n",
    "import matplotlib.pyplot as plt"
   ]
  },
  {
   "cell_type": "code",
   "execution_count": null,
   "id": "6b1de1a9",
   "metadata": {},
   "outputs": [],
   "source": [
    "# Analysis \n",
    "sns.countplot(x='Mode_of_Transport', data=df, palette='viridis')\n",
    "plt.title('Number of Trips by Mode of Transport')\n",
    "plt.xlabel('Mode of Transport')\n",
    "plt.ylabel('Trip Count')\n",
    "plt.show()"
   ]
  },
  {
   "cell_type": "code",
   "execution_count": null,
   "id": "a6b7acd7",
   "metadata": {},
   "outputs": [],
   "source": [
    "sns.histplot(df['Fare_Amount'], kde=True, bins=30)\n",
    "plt.title('Distribution of Fare Amounts')\n",
    "plt.xlabel('Fare Amount')\n",
    "plt.ylabel('Frequency')\n",
    "plt.show()"
   ]
  },
  {
   "cell_type": "code",
   "execution_count": null,
   "id": "cac3a5a0",
   "metadata": {},
   "outputs": [],
   "source": [
    "sns.boxplot(x='Trip_Duration_Minutes', data=df)\n",
    "plt.title('Trip Duration Distribution')\n",
    "plt.xlabel('Trip Duration (Minutes)')\n",
    "plt.show()"
   ]
  },
  {
   "cell_type": "code",
   "execution_count": null,
   "id": "38755e1b",
   "metadata": {},
   "outputs": [],
   "source": [
    "import numpy as np\n",
    "sns.barplot(x='Mode_of_Transport', y='Fare_Amount', data=df, estimator=np.mean, ci=None, palette='crest')\n",
    "plt.title('Average Fare by Mode of Transport')\n",
    "plt.xlabel('Mode of Transport')\n",
    "plt.ylabel('Average Fare (£)')\n",
    "plt.show()"
   ]
  },
  {
   "cell_type": "code",
   "execution_count": null,
   "id": "deb5017f",
   "metadata": {
    "scrolled": true
   },
   "outputs": [],
   "source": [
    "sns.barplot(x='Day_of_Week', y='Passenger_Count', data=df, estimator=np.mean, ci=None, palette='magma')\n",
    "plt.title('Average Passenger Count by Day of Week')\n",
    "plt.xlabel('Day of Week')\n",
    "plt.ylabel('Average Passengers')\n",
    "plt.show()"
   ]
  },
  {
   "cell_type": "code",
   "execution_count": null,
   "id": "d9b7edfb",
   "metadata": {
    "scrolled": true
   },
   "outputs": [],
   "source": [
    "sns.scatterplot(x='Trip_Duration_Minutes', y='Fare_Amount', hue='Mode_of_Transport', data=df)\n",
    "plt.title('Trip Duration vs Fare Amount')\n",
    "plt.xlabel('Trip Duration (Minutes)')\n",
    "plt.ylabel('Fare Amount (£)')\n",
    "plt.show()"
   ]
  },
  {
   "cell_type": "code",
   "execution_count": null,
   "id": "4315b95a",
   "metadata": {},
   "outputs": [],
   "source": [
    "pivot = df.pivot_table(values='Passenger_Count', index='Day_of_Week', columns='Mode_of_Transport', aggfunc='mean')\n",
    "sns.heatmap(pivot, annot=True, cmap='YlGnBu')\n",
    "plt.title('Average Passenger Count by Day and Transport Mode')\n",
    "plt.xlabel('Mode of Transport')\n",
    "plt.ylabel('Day of Week')\n",
    "plt.show()"
   ]
  },
  {
   "cell_type": "code",
   "execution_count": null,
   "id": "b44ebc0e",
   "metadata": {},
   "outputs": [],
   "source": [
    "print(\"KEY FINDINGS:\")\n",
    "print(\"1. Buses dominate the network but generate the lowest average fare.\")\n",
    "print(\"2. Trains have fewer trips but higher fares, showing premium usage.\")\n",
    "print(\"3. Passenger demand is steady across the week with slight dips on weekends.\")\n",
    "print(\"4. A few trips have unusually long durations — potential delays or data issues.\")\n",
    "\n"
   ]
  },
  {
   "cell_type": "code",
   "execution_count": null,
   "id": "af275d2b",
   "metadata": {},
   "outputs": [],
   "source": [
    "print(\"RECOMMENDATIONS:\")\n",
    "print(\"1. Optimize scheduling for high-demand days (Friday and Monday).\")\n",
    "print(\"2. Review ferry pricing to improve cost-effectiveness and utilization.\")\n",
    "print(\"3. Investigate long-duration trips for possible route delays.\")\n",
    "print(\"4. Maintain continuous data quality checks to prevent missing values.\")"
   ]
  },
  {
   "cell_type": "code",
   "execution_count": null,
   "id": "dd3564b6",
   "metadata": {},
   "outputs": [],
   "source": []
  }
 ],
 "metadata": {
  "kernelspec": {
   "display_name": "Python 3 (ipykernel)",
   "language": "python",
   "name": "python3"
  },
  "language_info": {
   "codemirror_mode": {
    "name": "ipython",
    "version": 3
   },
   "file_extension": ".py",
   "mimetype": "text/x-python",
   "name": "python",
   "nbconvert_exporter": "python",
   "pygments_lexer": "ipython3",
   "version": "3.9.7"
  }
 },
 "nbformat": 4,
 "nbformat_minor": 5
}
